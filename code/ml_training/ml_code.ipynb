{
 "cells": [
  {
   "cell_type": "markdown",
   "metadata": {},
   "source": [
    "# Machine Learning: Statistical Analysis and Model Generation"
   ]
  },
  {
   "cell_type": "code",
   "execution_count": 1,
   "metadata": {},
   "outputs": [],
   "source": [
    "import pandas as pd\n",
    "import numpy as np\n",
    "import os\n",
    "\n",
    "# set current working directory to root level\n",
    "os.chdir('../..')\n"
   ]
  },
  {
   "cell_type": "code",
   "execution_count": 6,
   "metadata": {},
   "outputs": [],
   "source": [
    "analysis_df = pd.read_csv('data/processed_data/merged_data_1/bin_0.csv')"
   ]
  },
  {
   "cell_type": "code",
   "execution_count": 7,
   "metadata": {},
   "outputs": [
    {
     "data": {
      "text/plain": [
       "(32796, 81)"
      ]
     },
     "execution_count": 7,
     "metadata": {},
     "output_type": "execute_result"
    }
   ],
   "source": [
    "analysis_df.shape"
   ]
  },
  {
   "cell_type": "code",
   "execution_count": 35,
   "metadata": {},
   "outputs": [
    {
     "name": "stdout",
     "output_type": "stream",
     "text": [
      "0 Timestamp_t0\n",
      "1 CoG Acceleration/X_t0\n",
      "2 CoG Acceleration/Y_t0\n",
      "3 CoG position/X_t0\n",
      "4 CoG position/Y_t0\n",
      "5 CoG position/Roll_t0\n",
      "6 CoG position/Pitch_t0\n",
      "7 CoG position/Yaw_t0\n",
      "8 Horizontal tangential speed_t0\n",
      "9 Over-steering criteria_t0\n",
      "10 Pitch %ground_t0\n",
      "11 Pitch acceleration_t0\n",
      "12 Pitch speed_t0\n",
      "13 Roll %ground_t0\n",
      "14 Roll acceleration_t0\n",
      "15 Roll speed_t0\n",
      "16 Slope force_t0\n",
      "17 Speed/X_t0\n",
      "18 Speed/Y_t0\n",
      "19 Tangent Acceleration/X_t0\n",
      "20 Tangent Acceleration/Y_t0\n",
      "21 Tangential speed_t0\n",
      "22 Yaw %ground_t0\n",
      "23 Yaw acceleration_t0\n",
      "24 Yaw speed_t0\n",
      "25 Brake pedal force_t0\n",
      "26 Gas pedal_t0\n",
      "27 Steering wheel angle_t0\n",
      "28 Steering wheel speed_t0\n",
      "29 Intersection Id_t0\n",
      "30 Lane gap_t0\n",
      "31 CoG Acceleration/X.hazard_t0\n",
      "32 CoG Acceleration/Y.hazard_t0\n",
      "33 CoG position/X.hazard_t0\n",
      "34 CoG position/Y.hazard_t0\n",
      "35 Pitch acceleration.hazard_t0\n",
      "36 Pitch speed.hazard_t0\n",
      "37 Roll acceleration.hazard_t0\n",
      "38 Roll speed.hazard_t0\n",
      "39 Speed/X.hazard_t0\n",
      "40 Speed/Y.hazard_t0\n",
      "41 Tangential speed.hazard_t0\n",
      "42 Yaw acceleration.hazard_t0\n",
      "43 Yaw speed.hazard_t0\n",
      "44 ExportChannel1/_t0\n",
      "45 ExportChannel4/_t0\n",
      "46 ExportChannel3/_t0\n",
      "47 distance_to_inter_t0\n",
      "48 Data Gaze2D X_t0\n",
      "49 Data Gaze2D Y_t0\n",
      "50 Data Gaze3D X_t0\n",
      "51 Data Gaze3D Y_t0\n",
      "52 Data Gaze3D Z_t0\n",
      "53 Avg_Gazeorigin_X_t0\n",
      "54 Avg_Gazeorigin_Y_t0\n",
      "55 Avg_Gazeorigin_Z_t0\n",
      "56 Avg_Gazedirection_X_t0\n",
      "57 Avg_Gazedirection_Y_t0\n",
      "58 Avg_Gazedirection_Z_t0\n",
      "59 Avg_Pupildiameter_t0\n",
      "60 Velocity_t0\n",
      "61 Is_Fixation_t0\n",
      "62 Fixation_ID_t0\n",
      "63 Data Accelerometer X_t0\n",
      "64 Data Accelerometer Y_t0\n",
      "65 Data Accelerometer Z_t0\n",
      "66 Data Gyroscope X_t0\n",
      "67 Data Gyroscope Y_t0\n",
      "68 Data Gyroscope Z_t0\n",
      "69 Data Magnetometer X_t0\n",
      "70 Data Magnetometer Y_t0\n",
      "71 Data Magnetometer Z_t0\n",
      "72 Is_Gaze_On_Hazard_t0\n",
      "73 combined_gaze_car_x_t0\n",
      "74 combined_gaze_car_y_t0\n",
      "75 driver_position_x_t0\n",
      "76 driver_position_y_t0\n",
      "77 distance_to_hazard_t0\n",
      "78 yaw_continuous_t0\n",
      "79 global_collision_flag_t0\n",
      "80 time_to_collision_flag_t0\n"
     ]
    }
   ],
   "source": [
    "for c,col in enumerate(analysis_df.columns):\\\n",
    "    print(c,col)"
   ]
  }
 ],
 "metadata": {
  "kernelspec": {
   "display_name": "Python 3",
   "language": "python",
   "name": "python3"
  },
  "language_info": {
   "codemirror_mode": {
    "name": "ipython",
    "version": 3
   },
   "file_extension": ".py",
   "mimetype": "text/x-python",
   "name": "python",
   "nbconvert_exporter": "python",
   "pygments_lexer": "ipython3",
   "version": "3.12.8"
  }
 },
 "nbformat": 4,
 "nbformat_minor": 2
}
